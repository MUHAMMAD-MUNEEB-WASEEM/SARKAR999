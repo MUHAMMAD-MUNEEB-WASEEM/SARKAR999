{
 "cells": [
  {
   "cell_type": "code",
   "execution_count": 5,
   "metadata": {},
   "outputs": [
    {
     "name": "stdout",
     "output_type": "stream",
     "text": [
      "Do you have CNIC?YES\n",
      "He has valid CNIC\n",
      "Is your name in the list?no\n",
      "You cannot cast vote!\n"
     ]
    }
   ],
   "source": [
    "user_cnic=input(\"Do you have CNIC?\").lower()#automarically takes input in lower alphabets\n",
    "#here we used _ as we cannot use spacebar in python\n",
    "if user_cnic=='yes':\n",
    "    print(\"He has valid CNIC\")\n",
    "    voter_list=(input(\"Is your name in the list?\").lower())\n",
    "    if voter_list=='yes':\n",
    "        print(\"You are registered voter\")\n",
    "        print(\"You can cast vote\")\n",
    "    else:\n",
    "        print(\"You cannot cast vote!\")\n",
    "else:\n",
    "    print(\"You cannot cast vote\")\n",
    "    "
   ]
  },
  {
   "cell_type": "code",
   "execution_count": null,
   "metadata": {},
   "outputs": [],
   "source": []
  },
  {
   "cell_type": "code",
   "execution_count": null,
   "metadata": {},
   "outputs": [],
   "source": []
  },
  {
   "cell_type": "code",
   "execution_count": null,
   "metadata": {},
   "outputs": [],
   "source": []
  }
 ],
 "metadata": {
  "kernelspec": {
   "display_name": "Python 3",
   "language": "python",
   "name": "python3"
  },
  "language_info": {
   "codemirror_mode": {
    "name": "ipython",
    "version": 3
   },
   "file_extension": ".py",
   "mimetype": "text/x-python",
   "name": "python",
   "nbconvert_exporter": "python",
   "pygments_lexer": "ipython3",
   "version": "3.7.0"
  }
 },
 "nbformat": 4,
 "nbformat_minor": 2
}
